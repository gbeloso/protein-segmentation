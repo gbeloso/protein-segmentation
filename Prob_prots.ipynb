{
 "cells": [
  {
   "cell_type": "code",
   "execution_count": 41,
   "id": "2fcc7d7c",
   "metadata": {},
   "outputs": [],
   "source": [
    "from Bio import SeqIO\n",
    "from Bio.Seq import Seq\n",
    "from Bio.SeqRecord import SeqRecord\n",
    "\n",
    "start = 0\n",
    "proteins = []\n",
    "temp = \"\"\n",
    "index = []\n",
    "frame_atual = 0\n",
    "segmento_atual = 0\n",
    "proteina_atual = 0\n",
    "qtd = 0\n",
    "\n",
    "for i in range(1, 7):\n",
    "    frame_atual = i\n",
    "    segmento_atual = 0\n",
    "    file_path = 'frame'+str(i)+'.fasta'\n",
    "    records = SeqIO.parse(file_path, 'fasta')\n",
    "    for seq in records:\n",
    "        segmento_atual = segmento_atual + 1\n",
    "        proteina_atual = 0\n",
    "        for c in range(len(seq)):\n",
    "            if seq[c] == 'M':\n",
    "                index.append(c)\n",
    "                qtd+=1\n",
    "        while(len(index) > 0):\n",
    "            index_atual = index.pop()\n",
    "            proteina_atual += 1\n",
    "            for j in range(index_atual, len(seq)):\n",
    "                if seq[j] != '*':\n",
    "                    temp = temp + seq[j]\n",
    "                else:\n",
    "                    if(len(temp) > 3):\n",
    "                        name_desc = \"H3N2, FRAME \" + str(frame_atual) + \", segmento \" + str(segmento_atual) + \", proteina \" + str(proteina_atual)\n",
    "                        proteins.append(SeqRecord(Seq(temp), id=\"\", name=name_desc, description=name_desc,))\n",
    "                    temp = \"\"\n",
    "                    break\n",
    "with open(\"possible_proteins.fasta\", \"w+\") as out:\n",
    "    SeqIO.write(proteins, out, 'fasta')"
   ]
  }
 ],
 "metadata": {
  "kernelspec": {
   "display_name": "Python 3 (ipykernel)",
   "language": "python",
   "name": "python3"
  },
  "language_info": {
   "codemirror_mode": {
    "name": "ipython",
    "version": 3
   },
   "file_extension": ".py",
   "mimetype": "text/x-python",
   "name": "python",
   "nbconvert_exporter": "python",
   "pygments_lexer": "ipython3",
   "version": "3.10.9"
  }
 },
 "nbformat": 4,
 "nbformat_minor": 5
}
